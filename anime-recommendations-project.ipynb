{
 "cells": [
  {
   "cell_type": "markdown",
   "metadata": {
    "papermill": {
     "duration": 0.026336,
     "end_time": "2020-11-24T18:54:20.267869",
     "exception": false,
     "start_time": "2020-11-24T18:54:20.241533",
     "status": "completed"
    },
    "tags": []
   },
   "source": [
    "# Anime Recommendation System"
   ]
  },
  {
   "cell_type": "markdown",
   "metadata": {
    "papermill": {
     "duration": 0.021949,
     "end_time": "2020-11-24T18:54:20.357952",
     "exception": false,
     "start_time": "2020-11-24T18:54:20.336003",
     "status": "completed"
    },
    "tags": []
   },
   "source": [
    "\n",
    "\n",
    "## Anime Dataset\n",
    "\n",
    "This dataset is named **anime**. The dataset contains a set of **12,294 records** under **7 attributes**:\n",
    "\n",
    "| Column Name | Description                                                    |\n",
    "|-------------|----------------------------------------------------------------|\n",
    "| `anime_id`  | myanimelist.net's unique id identifying an anime.              |\n",
    "| `name`      | full name of anime.                                            |\n",
    "| `genre`     | comma separated list of genres for this anime.                 |\n",
    "| `type`      | movie, TV, OVA, etc.                                           |\n",
    "| `episodes`  | how many episodes in this show. (1 if movie).                  |\n",
    "| `rating`    |  average rating out of 10 for this anime.                      |\n",
    "| `members`   | number of community members that are in this anime's \"group\".  |\n",
    "                                                \n",
    "\n",
    "\n",
    "## Rating Dataset\n",
    "\n",
    "This dataset is named **rating**. The dataset contains a set of **7,813,737 records** under **3 attributes**:\n",
    "\n",
    "| Column Name | Description                                                                        |\n",
    "|-------------|------------------------------------------------------------------------------------|\n",
    "| `user_id`   | non identifiable randomly generated user id.                                       |\n",
    "| `anime_id`  | the anime that this user has rated.                                                |\n",
    "| `rating`    | rating out of 10 this user has assigned (-1 if the user watched without assigning) |\n",
    "\n",
    "                                                "
   ]
  },
  {
   "cell_type": "markdown",
   "metadata": {},
   "source": [
    "## PROPOSED SOLUTION IMPLEMENTATION"
   ]
  },
  {
   "cell_type": "markdown",
   "metadata": {
    "papermill": {
     "duration": 0.021794,
     "end_time": "2020-11-24T18:54:20.402803",
     "exception": false,
     "start_time": "2020-11-24T18:54:20.381009",
     "status": "completed"
    },
    "tags": []
   },
   "source": [
    "# Libraries "
   ]
  },
  {
   "cell_type": "code",
   "execution_count": 5,
   "metadata": {
    "_cell_guid": "79c7e3d0-c299-4dcb-8224-4455121ee9b0",
    "_uuid": "d629ff2d2480ee46fbb7e2d37f6b5fab8052498a",
    "execution": {
     "iopub.execute_input": "2020-11-24T18:54:20.456343Z",
     "iopub.status.busy": "2020-11-24T18:54:20.455502Z",
     "iopub.status.idle": "2020-11-24T18:54:21.650780Z",
     "shell.execute_reply": "2020-11-24T18:54:21.649846Z"
    },
    "papermill": {
     "duration": 1.22586,
     "end_time": "2020-11-24T18:54:21.650927",
     "exception": false,
     "start_time": "2020-11-24T18:54:20.425067",
     "status": "completed"
    },
    "tags": []
   },
   "outputs": [],
   "source": [
    "import os #paths to file\n",
    "import numpy as np # linear algebra\n",
    "import pandas as pd # data processing\n",
    "import warnings# warning filter\n",
    "import scipy as sp #pivot egineering\n",
    "import matplotlib.pyplot as plt\n",
    "import seaborn as sns\n",
    "\n",
    "%matplotlib inline\n",
    "\n",
    "#ML model\n",
    "from sklearn.metrics.pairwise import cosine_similarity\n",
    "\n",
    "\n",
    "#default theme and settings\n",
    "pd.options.display.max_columns\n",
    "\n",
    "#warning hadle\n",
    "warnings.filterwarnings(\"always\")\n",
    "warnings.filterwarnings(\"ignore\")"
   ]
  },
  {
   "cell_type": "markdown",
   "metadata": {
    "papermill": {
     "duration": 0.023436,
     "end_time": "2020-11-24T18:54:21.697617",
     "exception": false,
     "start_time": "2020-11-24T18:54:21.674181",
     "status": "completed"
    },
    "tags": []
   },
   "source": [
    "# Preprocessing and Data Analysis\n",
    "\n",
    "### File Paths "
   ]
  },
  {
   "cell_type": "code",
   "execution_count": 6,
   "metadata": {
    "execution": {
     "iopub.execute_input": "2020-11-24T18:54:21.820768Z",
     "iopub.status.busy": "2020-11-24T18:54:21.819940Z",
     "iopub.status.idle": "2020-11-24T18:54:21.823119Z",
     "shell.execute_reply": "2020-11-24T18:54:21.822321Z"
    },
    "papermill": {
     "duration": 0.032977,
     "end_time": "2020-11-24T18:54:21.823254",
     "exception": false,
     "start_time": "2020-11-24T18:54:21.790277",
     "status": "completed"
    },
    "tags": []
   },
   "outputs": [],
   "source": [
    "rating_path = \"C:/Users/Asus/jupdoc/Anime/rating.csv\"\n",
    "anime_path = \"C:/Users/Asus/jupdoc/Anime/anime.csv\""
   ]
  },
  {
   "cell_type": "markdown",
   "metadata": {
    "papermill": {
     "duration": 0.024609,
     "end_time": "2020-11-24T18:54:21.872320",
     "exception": false,
     "start_time": "2020-11-24T18:54:21.847711",
     "status": "completed"
    },
    "tags": []
   },
   "source": [
    "### First few lines"
   ]
  },
  {
   "cell_type": "code",
   "execution_count": 7,
   "metadata": {
    "execution": {
     "iopub.execute_input": "2020-11-24T18:54:21.929138Z",
     "iopub.status.busy": "2020-11-24T18:54:21.928313Z",
     "iopub.status.idle": "2020-11-24T18:54:25.050110Z",
     "shell.execute_reply": "2020-11-24T18:54:25.049307Z"
    },
    "papermill": {
     "duration": 3.153363,
     "end_time": "2020-11-24T18:54:25.050270",
     "exception": false,
     "start_time": "2020-11-24T18:54:21.896907",
     "status": "completed"
    },
    "tags": []
   },
   "outputs": [
    {
     "data": {
      "text/html": [
       "<div>\n",
       "<style scoped>\n",
       "    .dataframe tbody tr th:only-of-type {\n",
       "        vertical-align: middle;\n",
       "    }\n",
       "\n",
       "    .dataframe tbody tr th {\n",
       "        vertical-align: top;\n",
       "    }\n",
       "\n",
       "    .dataframe thead th {\n",
       "        text-align: right;\n",
       "    }\n",
       "</style>\n",
       "<table border=\"1\" class=\"dataframe\">\n",
       "  <thead>\n",
       "    <tr style=\"text-align: right;\">\n",
       "      <th></th>\n",
       "      <th>user_id</th>\n",
       "      <th>anime_id</th>\n",
       "      <th>rating</th>\n",
       "    </tr>\n",
       "  </thead>\n",
       "  <tbody>\n",
       "    <tr>\n",
       "      <th>0</th>\n",
       "      <td>1</td>\n",
       "      <td>20</td>\n",
       "      <td>-1</td>\n",
       "    </tr>\n",
       "    <tr>\n",
       "      <th>1</th>\n",
       "      <td>1</td>\n",
       "      <td>24</td>\n",
       "      <td>-1</td>\n",
       "    </tr>\n",
       "    <tr>\n",
       "      <th>2</th>\n",
       "      <td>1</td>\n",
       "      <td>79</td>\n",
       "      <td>-1</td>\n",
       "    </tr>\n",
       "    <tr>\n",
       "      <th>3</th>\n",
       "      <td>1</td>\n",
       "      <td>226</td>\n",
       "      <td>-1</td>\n",
       "    </tr>\n",
       "    <tr>\n",
       "      <th>4</th>\n",
       "      <td>1</td>\n",
       "      <td>241</td>\n",
       "      <td>-1</td>\n",
       "    </tr>\n",
       "  </tbody>\n",
       "</table>\n",
       "</div>"
      ],
      "text/plain": [
       "   user_id  anime_id  rating\n",
       "0        1        20      -1\n",
       "1        1        24      -1\n",
       "2        1        79      -1\n",
       "3        1       226      -1\n",
       "4        1       241      -1"
      ]
     },
     "execution_count": 7,
     "metadata": {},
     "output_type": "execute_result"
    }
   ],
   "source": [
    "rating_df = pd.read_csv(rating_path)\n",
    "rating_df.head()"
   ]
  },
  {
   "cell_type": "code",
   "execution_count": 8,
   "metadata": {
    "execution": {
     "iopub.execute_input": "2020-11-24T18:54:25.107186Z",
     "iopub.status.busy": "2020-11-24T18:54:25.106343Z",
     "iopub.status.idle": "2020-11-24T18:54:25.163091Z",
     "shell.execute_reply": "2020-11-24T18:54:25.162232Z"
    },
    "papermill": {
     "duration": 0.087755,
     "end_time": "2020-11-24T18:54:25.163232",
     "exception": false,
     "start_time": "2020-11-24T18:54:25.075477",
     "status": "completed"
    },
    "tags": []
   },
   "outputs": [
    {
     "data": {
      "text/html": [
       "<div>\n",
       "<style scoped>\n",
       "    .dataframe tbody tr th:only-of-type {\n",
       "        vertical-align: middle;\n",
       "    }\n",
       "\n",
       "    .dataframe tbody tr th {\n",
       "        vertical-align: top;\n",
       "    }\n",
       "\n",
       "    .dataframe thead th {\n",
       "        text-align: right;\n",
       "    }\n",
       "</style>\n",
       "<table border=\"1\" class=\"dataframe\">\n",
       "  <thead>\n",
       "    <tr style=\"text-align: right;\">\n",
       "      <th></th>\n",
       "      <th>anime_id</th>\n",
       "      <th>name</th>\n",
       "      <th>genre</th>\n",
       "      <th>type</th>\n",
       "      <th>episodes</th>\n",
       "      <th>rating</th>\n",
       "      <th>members</th>\n",
       "    </tr>\n",
       "  </thead>\n",
       "  <tbody>\n",
       "    <tr>\n",
       "      <th>0</th>\n",
       "      <td>32281</td>\n",
       "      <td>Kimi no Na wa.</td>\n",
       "      <td>Drama, Romance, School, Supernatural</td>\n",
       "      <td>Movie</td>\n",
       "      <td>1</td>\n",
       "      <td>9.37</td>\n",
       "      <td>200630</td>\n",
       "    </tr>\n",
       "    <tr>\n",
       "      <th>1</th>\n",
       "      <td>5114</td>\n",
       "      <td>Fullmetal Alchemist: Brotherhood</td>\n",
       "      <td>Action, Adventure, Drama, Fantasy, Magic, Mili...</td>\n",
       "      <td>TV</td>\n",
       "      <td>64</td>\n",
       "      <td>9.26</td>\n",
       "      <td>793665</td>\n",
       "    </tr>\n",
       "    <tr>\n",
       "      <th>2</th>\n",
       "      <td>28977</td>\n",
       "      <td>Gintama°</td>\n",
       "      <td>Action, Comedy, Historical, Parody, Samurai, S...</td>\n",
       "      <td>TV</td>\n",
       "      <td>51</td>\n",
       "      <td>9.25</td>\n",
       "      <td>114262</td>\n",
       "    </tr>\n",
       "    <tr>\n",
       "      <th>3</th>\n",
       "      <td>9253</td>\n",
       "      <td>Steins;Gate</td>\n",
       "      <td>Sci-Fi, Thriller</td>\n",
       "      <td>TV</td>\n",
       "      <td>24</td>\n",
       "      <td>9.17</td>\n",
       "      <td>673572</td>\n",
       "    </tr>\n",
       "    <tr>\n",
       "      <th>4</th>\n",
       "      <td>9969</td>\n",
       "      <td>Gintama&amp;#039;</td>\n",
       "      <td>Action, Comedy, Historical, Parody, Samurai, S...</td>\n",
       "      <td>TV</td>\n",
       "      <td>51</td>\n",
       "      <td>9.16</td>\n",
       "      <td>151266</td>\n",
       "    </tr>\n",
       "  </tbody>\n",
       "</table>\n",
       "</div>"
      ],
      "text/plain": [
       "   anime_id                              name  \\\n",
       "0     32281                    Kimi no Na wa.   \n",
       "1      5114  Fullmetal Alchemist: Brotherhood   \n",
       "2     28977                          Gintama°   \n",
       "3      9253                       Steins;Gate   \n",
       "4      9969                     Gintama&#039;   \n",
       "\n",
       "                                               genre   type episodes  rating  \\\n",
       "0               Drama, Romance, School, Supernatural  Movie        1    9.37   \n",
       "1  Action, Adventure, Drama, Fantasy, Magic, Mili...     TV       64    9.26   \n",
       "2  Action, Comedy, Historical, Parody, Samurai, S...     TV       51    9.25   \n",
       "3                                   Sci-Fi, Thriller     TV       24    9.17   \n",
       "4  Action, Comedy, Historical, Parody, Samurai, S...     TV       51    9.16   \n",
       "\n",
       "   members  \n",
       "0   200630  \n",
       "1   793665  \n",
       "2   114262  \n",
       "3   673572  \n",
       "4   151266  "
      ]
     },
     "execution_count": 8,
     "metadata": {},
     "output_type": "execute_result"
    }
   ],
   "source": [
    "anime_df = pd.read_csv(anime_path)\n",
    "anime_df.head()"
   ]
  },
  {
   "cell_type": "markdown",
   "metadata": {
    "papermill": {
     "duration": 0.024924,
     "end_time": "2020-11-24T18:54:25.214576",
     "exception": false,
     "start_time": "2020-11-24T18:54:25.189652",
     "status": "completed"
    },
    "tags": []
   },
   "source": [
    "### Data shapes and info"
   ]
  },
  {
   "cell_type": "code",
   "execution_count": 9,
   "metadata": {
    "execution": {
     "iopub.execute_input": "2020-11-24T18:54:25.272114Z",
     "iopub.status.busy": "2020-11-24T18:54:25.271256Z",
     "iopub.status.idle": "2020-11-24T18:54:25.275354Z",
     "shell.execute_reply": "2020-11-24T18:54:25.275978Z"
    },
    "papermill": {
     "duration": 0.03539,
     "end_time": "2020-11-24T18:54:25.276145",
     "exception": false,
     "start_time": "2020-11-24T18:54:25.240755",
     "status": "completed"
    },
    "tags": []
   },
   "outputs": [
    {
     "name": "stdout",
     "output_type": "stream",
     "text": [
      "anime set (row, col): (12294, 7)\n",
      "\n",
      "rating set (row, col): (7813737, 3)\n"
     ]
    }
   ],
   "source": [
    "print(f\"anime set (row, col): {anime_df.shape}\\n\\nrating set (row, col): {rating_df.shape}\")"
   ]
  },
  {
   "cell_type": "code",
   "execution_count": 10,
   "metadata": {
    "execution": {
     "iopub.execute_input": "2020-11-24T18:54:25.341500Z",
     "iopub.status.busy": "2020-11-24T18:54:25.340317Z",
     "iopub.status.idle": "2020-11-24T18:54:25.359038Z",
     "shell.execute_reply": "2020-11-24T18:54:25.359712Z"
    },
    "papermill": {
     "duration": 0.058019,
     "end_time": "2020-11-24T18:54:25.359887",
     "exception": false,
     "start_time": "2020-11-24T18:54:25.301868",
     "status": "completed"
    },
    "tags": []
   },
   "outputs": [
    {
     "name": "stdout",
     "output_type": "stream",
     "text": [
      "Anime:\n",
      "\n",
      "<class 'pandas.core.frame.DataFrame'>\n",
      "RangeIndex: 12294 entries, 0 to 12293\n",
      "Data columns (total 7 columns):\n",
      " #   Column    Non-Null Count  Dtype  \n",
      "---  ------    --------------  -----  \n",
      " 0   anime_id  12294 non-null  int64  \n",
      " 1   name      12294 non-null  object \n",
      " 2   genre     12232 non-null  object \n",
      " 3   type      12269 non-null  object \n",
      " 4   episodes  12294 non-null  object \n",
      " 5   rating    12064 non-null  float64\n",
      " 6   members   12294 non-null  int64  \n",
      "dtypes: float64(1), int64(2), object(4)\n",
      "memory usage: 672.5+ KB\n",
      "None\n",
      "\n",
      " -------------------------------------------------- \n",
      "Rating:\n",
      "\n",
      "<class 'pandas.core.frame.DataFrame'>\n",
      "RangeIndex: 7813737 entries, 0 to 7813736\n",
      "Data columns (total 3 columns):\n",
      " #   Column    Dtype\n",
      "---  ------    -----\n",
      " 0   user_id   int64\n",
      " 1   anime_id  int64\n",
      " 2   rating    int64\n",
      "dtypes: int64(3)\n",
      "memory usage: 178.8 MB\n",
      "None\n"
     ]
    }
   ],
   "source": [
    "print(\"Anime:\\n\")\n",
    "print(anime_df.info())\n",
    "print(\"\\n\",\"-\"*50,\"\\nRating:\\n\")\n",
    "print(rating_df.info())"
   ]
  },
  {
   "cell_type": "markdown",
   "metadata": {
    "papermill": {
     "duration": 0.026021,
     "end_time": "2020-11-24T18:54:25.412183",
     "exception": false,
     "start_time": "2020-11-24T18:54:25.386162",
     "status": "completed"
    },
    "tags": []
   },
   "source": [
    "## Handling missing values "
   ]
  },
  {
   "cell_type": "code",
   "execution_count": 11,
   "metadata": {
    "execution": {
     "iopub.execute_input": "2020-11-24T18:54:25.479105Z",
     "iopub.status.busy": "2020-11-24T18:54:25.478214Z",
     "iopub.status.idle": "2020-11-24T18:54:25.542236Z",
     "shell.execute_reply": "2020-11-24T18:54:25.542870Z"
    },
    "papermill": {
     "duration": 0.104852,
     "end_time": "2020-11-24T18:54:25.543036",
     "exception": false,
     "start_time": "2020-11-24T18:54:25.438184",
     "status": "completed"
    },
    "scrolled": false,
    "tags": []
   },
   "outputs": [
    {
     "name": "stdout",
     "output_type": "stream",
     "text": [
      "Anime missing values (%):\n",
      "\n",
      "rating      1.87\n",
      "genre       0.50\n",
      "type        0.20\n",
      "anime_id    0.00\n",
      "name        0.00\n",
      "episodes    0.00\n",
      "members     0.00\n",
      "dtype: float64\n",
      "\n",
      " -------------------------------------------------- \n",
      "Rating missing values (%):\n",
      "\n",
      "user_id     0.0\n",
      "anime_id    0.0\n",
      "rating      0.0\n",
      "dtype: float64\n"
     ]
    }
   ],
   "source": [
    "print(\"Anime missing values (%):\\n\")\n",
    "print(round(anime_df.isnull().sum().sort_values(ascending=False)/len(anime_df.index),4)*100) \n",
    "print(\"\\n\",\"-\"*50,\"\\nRating missing values (%):\\n\")\n",
    "print(round(rating_df.isnull().sum().sort_values(ascending=False)/len(rating_df.index),4)*100)"
   ]
  },
  {
   "cell_type": "markdown",
   "metadata": {
    "papermill": {
     "duration": 0.028964,
     "end_time": "2020-11-24T18:54:25.600681",
     "exception": false,
     "start_time": "2020-11-24T18:54:25.571717",
     "status": "completed"
    },
    "tags": []
   },
   "source": [
    "It seems only the anime dataset has missing values."
   ]
  },
  {
   "cell_type": "code",
   "execution_count": 12,
   "metadata": {
    "execution": {
     "iopub.execute_input": "2020-11-24T18:54:25.805863Z",
     "iopub.status.busy": "2020-11-24T18:54:25.804610Z",
     "iopub.status.idle": "2020-11-24T18:54:25.835888Z",
     "shell.execute_reply": "2020-11-24T18:54:25.835054Z"
    },
    "papermill": {
     "duration": 0.069699,
     "end_time": "2020-11-24T18:54:25.836028",
     "exception": false,
     "start_time": "2020-11-24T18:54:25.766329",
     "status": "completed"
    },
    "tags": []
   },
   "outputs": [
    {
     "data": {
      "text/plain": [
       "anime_id    0\n",
       "name        0\n",
       "genre       0\n",
       "type        0\n",
       "episodes    0\n",
       "rating      0\n",
       "members     0\n",
       "dtype: int64"
      ]
     },
     "execution_count": 12,
     "metadata": {},
     "output_type": "execute_result"
    }
   ],
   "source": [
    "# deleting anime with 0 rating\n",
    "anime_df=anime_df[~np.isnan(anime_df[\"rating\"])]\n",
    "\n",
    "# filling mode value for genre and type\n",
    "anime_df['genre'] = anime_df['genre'].fillna(\n",
    "anime_df['genre'].dropna().mode().values[0])\n",
    "\n",
    "anime_df['type'] = anime_df['type'].fillna(\n",
    "anime_df['type'].dropna().mode().values[0])\n",
    "\n",
    "#checking if all null values are filled\n",
    "anime_df.isnull().sum()"
   ]
  },
  {
   "cell_type": "code",
   "execution_count": 13,
   "metadata": {},
   "outputs": [
    {
     "data": {
      "text/html": [
       "<div>\n",
       "<style scoped>\n",
       "    .dataframe tbody tr th:only-of-type {\n",
       "        vertical-align: middle;\n",
       "    }\n",
       "\n",
       "    .dataframe tbody tr th {\n",
       "        vertical-align: top;\n",
       "    }\n",
       "\n",
       "    .dataframe thead th {\n",
       "        text-align: right;\n",
       "    }\n",
       "</style>\n",
       "<table border=\"1\" class=\"dataframe\">\n",
       "  <thead>\n",
       "    <tr style=\"text-align: right;\">\n",
       "      <th></th>\n",
       "      <th>anime_id</th>\n",
       "      <th>name</th>\n",
       "      <th>genre</th>\n",
       "      <th>episodes</th>\n",
       "      <th>rating</th>\n",
       "      <th>members</th>\n",
       "    </tr>\n",
       "    <tr>\n",
       "      <th>type</th>\n",
       "      <th></th>\n",
       "      <th></th>\n",
       "      <th></th>\n",
       "      <th></th>\n",
       "      <th></th>\n",
       "      <th></th>\n",
       "    </tr>\n",
       "  </thead>\n",
       "  <tbody>\n",
       "    <tr>\n",
       "      <th>Movie</th>\n",
       "      <td>32281</td>\n",
       "      <td>Kimi no Na wa.</td>\n",
       "      <td>Drama, Romance, School, Supernatural</td>\n",
       "      <td>1</td>\n",
       "      <td>9.37</td>\n",
       "      <td>200630</td>\n",
       "    </tr>\n",
       "    <tr>\n",
       "      <th>Music</th>\n",
       "      <td>34240</td>\n",
       "      <td>Shelter</td>\n",
       "      <td>Music, Sci-Fi</td>\n",
       "      <td>1</td>\n",
       "      <td>8.38</td>\n",
       "      <td>71136</td>\n",
       "    </tr>\n",
       "    <tr>\n",
       "      <th>ONA</th>\n",
       "      <td>3167</td>\n",
       "      <td>Eve no Jikan</td>\n",
       "      <td>Sci-Fi, Slice of Life</td>\n",
       "      <td>6</td>\n",
       "      <td>8.26</td>\n",
       "      <td>99074</td>\n",
       "    </tr>\n",
       "    <tr>\n",
       "      <th>OVA</th>\n",
       "      <td>820</td>\n",
       "      <td>Ginga Eiyuu Densetsu</td>\n",
       "      <td>Drama, Military, Sci-Fi, Space</td>\n",
       "      <td>110</td>\n",
       "      <td>9.11</td>\n",
       "      <td>80679</td>\n",
       "    </tr>\n",
       "    <tr>\n",
       "      <th>Special</th>\n",
       "      <td>21329</td>\n",
       "      <td>Mushishi Special: Hihamukage</td>\n",
       "      <td>Adventure, Fantasy, Historical, Mystery, Seine...</td>\n",
       "      <td>1</td>\n",
       "      <td>8.66</td>\n",
       "      <td>49036</td>\n",
       "    </tr>\n",
       "    <tr>\n",
       "      <th>TV</th>\n",
       "      <td>5114</td>\n",
       "      <td>Fullmetal Alchemist: Brotherhood</td>\n",
       "      <td>Action, Adventure, Drama, Fantasy, Magic, Mili...</td>\n",
       "      <td>64</td>\n",
       "      <td>9.26</td>\n",
       "      <td>793665</td>\n",
       "    </tr>\n",
       "  </tbody>\n",
       "</table>\n",
       "</div>"
      ],
      "text/plain": [
       "         anime_id                              name  \\\n",
       "type                                                  \n",
       "Movie       32281                    Kimi no Na wa.   \n",
       "Music       34240                           Shelter   \n",
       "ONA          3167                      Eve no Jikan   \n",
       "OVA           820              Ginga Eiyuu Densetsu   \n",
       "Special     21329      Mushishi Special: Hihamukage   \n",
       "TV           5114  Fullmetal Alchemist: Brotherhood   \n",
       "\n",
       "                                                     genre episodes  rating  \\\n",
       "type                                                                          \n",
       "Movie                 Drama, Romance, School, Supernatural        1    9.37   \n",
       "Music                                        Music, Sci-Fi        1    8.38   \n",
       "ONA                                  Sci-Fi, Slice of Life        6    8.26   \n",
       "OVA                         Drama, Military, Sci-Fi, Space      110    9.11   \n",
       "Special  Adventure, Fantasy, Historical, Mystery, Seine...        1    8.66   \n",
       "TV       Action, Adventure, Drama, Fantasy, Magic, Mili...       64    9.26   \n",
       "\n",
       "         members  \n",
       "type              \n",
       "Movie     200630  \n",
       "Music      71136  \n",
       "ONA        99074  \n",
       "OVA        80679  \n",
       "Special    49036  \n",
       "TV        793665  "
      ]
     },
     "execution_count": 13,
     "metadata": {},
     "output_type": "execute_result"
    }
   ],
   "source": [
    "anime_df.groupby('type').first()"
   ]
  },
  {
   "cell_type": "code",
   "execution_count": 14,
   "metadata": {
    "execution": {
     "iopub.execute_input": "2020-11-24T18:54:25.670195Z",
     "iopub.status.busy": "2020-11-24T18:54:25.669335Z",
     "iopub.status.idle": "2020-11-24T18:54:25.673803Z",
     "shell.execute_reply": "2020-11-24T18:54:25.672960Z"
    },
    "papermill": {
     "duration": 0.045163,
     "end_time": "2020-11-24T18:54:25.673962",
     "exception": false,
     "start_time": "2020-11-24T18:54:25.628799",
     "status": "completed"
    },
    "scrolled": true,
    "tags": []
   },
   "outputs": [
    {
     "name": "stdout",
     "output_type": "stream",
     "text": [
      "0    TV\n",
      "dtype: object\n",
      "0    Hentai\n",
      "dtype: object\n"
     ]
    }
   ],
   "source": [
    "print(anime_df['type'].mode())\n",
    "print(anime_df['genre'].mode())"
   ]
  },
  {
   "cell_type": "markdown",
   "metadata": {
    "papermill": {
     "duration": 0.027767,
     "end_time": "2020-11-24T18:54:25.734910",
     "exception": false,
     "start_time": "2020-11-24T18:54:25.707143",
     "status": "completed"
    },
    "tags": []
   },
   "source": [
    "The mode value of `genre` is `Hentai`, the mode value of `type` is `TV`."
   ]
  },
  {
   "cell_type": "code",
   "execution_count": 15,
   "metadata": {},
   "outputs": [
    {
     "name": "stdout",
     "output_type": "stream",
     "text": [
      "<class 'pandas.core.frame.DataFrame'>\n",
      "Int64Index: 12064 entries, 0 to 12293\n",
      "Data columns (total 7 columns):\n",
      " #   Column    Non-Null Count  Dtype  \n",
      "---  ------    --------------  -----  \n",
      " 0   anime_id  12064 non-null  int64  \n",
      " 1   name      12064 non-null  object \n",
      " 2   genre     12064 non-null  object \n",
      " 3   type      12064 non-null  object \n",
      " 4   episodes  12064 non-null  object \n",
      " 5   rating    12064 non-null  float64\n",
      " 6   members   12064 non-null  int64  \n",
      "dtypes: float64(1), int64(2), object(4)\n",
      "memory usage: 754.0+ KB\n"
     ]
    }
   ],
   "source": [
    "anime_df.info()"
   ]
  },
  {
   "cell_type": "code",
   "execution_count": 16,
   "metadata": {},
   "outputs": [
    {
     "data": {
      "text/plain": [
       "0             20\n",
       "1             24\n",
       "2             79\n",
       "3            226\n",
       "4            241\n",
       "           ...  \n",
       "7813732    16512\n",
       "7813733    17187\n",
       "7813734    22145\n",
       "7813735      790\n",
       "7813736     8074\n",
       "Name: anime_id, Length: 7813737, dtype: int64"
      ]
     },
     "execution_count": 16,
     "metadata": {},
     "output_type": "execute_result"
    }
   ],
   "source": [
    "rating_df['anime_id']"
   ]
  },
  {
   "cell_type": "code",
   "execution_count": 17,
   "metadata": {},
   "outputs": [
    {
     "data": {
      "text/plain": [
       "<seaborn.axisgrid.PairGrid at 0x1482ba323a0>"
      ]
     },
     "execution_count": 17,
     "metadata": {},
     "output_type": "execute_result"
    },
    {
     "data": {
      "image/png": "[encoded data removed]",
      "text/plain": [
       "<Figure size 540x540 with 12 Axes>"
      ]
     },
     "metadata": {
      "needs_background": "light"
     },
     "output_type": "display_data"
    }
   ],
   "source": [
    "sns.pairplot(anime_df)"
   ]
  },
  {
   "cell_type": "markdown",
   "metadata": {
    "papermill": {
     "duration": 0.029022,
     "end_time": "2020-11-24T18:54:25.896042",
     "exception": false,
     "start_time": "2020-11-24T18:54:25.867020",
     "status": "completed"
    },
    "tags": []
   },
   "source": [
    "## Feeture Engineering 🐱‍💻\n",
    "\n",
    "### Filling Nan values\n",
    "\n",
    "In general the value `-1` suggests the user did not register a raiting so we will foll with `Nan` values.\n"
   ]
  },
  {
   "cell_type": "code",
   "execution_count": 18,
   "metadata": {
    "execution": {
     "iopub.execute_input": "2020-11-24T18:54:26.279814Z",
     "iopub.status.busy": "2020-11-24T18:54:26.251246Z",
     "iopub.status.idle": "2020-11-24T18:54:31.802033Z",
     "shell.execute_reply": "2020-11-24T18:54:31.801220Z"
    },
    "papermill": {
     "duration": 5.874205,
     "end_time": "2020-11-24T18:54:31.802167",
     "exception": false,
     "start_time": "2020-11-24T18:54:25.927962",
     "status": "completed"
    },
    "tags": []
   },
   "outputs": [
    {
     "data": {
      "text/html": [
       "<div>\n",
       "<style scoped>\n",
       "    .dataframe tbody tr th:only-of-type {\n",
       "        vertical-align: middle;\n",
       "    }\n",
       "\n",
       "    .dataframe tbody tr th {\n",
       "        vertical-align: top;\n",
       "    }\n",
       "\n",
       "    .dataframe thead th {\n",
       "        text-align: right;\n",
       "    }\n",
       "</style>\n",
       "<table border=\"1\" class=\"dataframe\">\n",
       "  <thead>\n",
       "    <tr style=\"text-align: right;\">\n",
       "      <th></th>\n",
       "      <th>user_id</th>\n",
       "      <th>anime_id</th>\n",
       "      <th>rating</th>\n",
       "    </tr>\n",
       "  </thead>\n",
       "  <tbody>\n",
       "    <tr>\n",
       "      <th>0</th>\n",
       "      <td>1</td>\n",
       "      <td>20</td>\n",
       "      <td>NaN</td>\n",
       "    </tr>\n",
       "    <tr>\n",
       "      <th>1</th>\n",
       "      <td>1</td>\n",
       "      <td>24</td>\n",
       "      <td>NaN</td>\n",
       "    </tr>\n",
       "    <tr>\n",
       "      <th>2</th>\n",
       "      <td>1</td>\n",
       "      <td>79</td>\n",
       "      <td>NaN</td>\n",
       "    </tr>\n",
       "    <tr>\n",
       "      <th>3</th>\n",
       "      <td>1</td>\n",
       "      <td>226</td>\n",
       "      <td>NaN</td>\n",
       "    </tr>\n",
       "    <tr>\n",
       "      <th>4</th>\n",
       "      <td>1</td>\n",
       "      <td>241</td>\n",
       "      <td>NaN</td>\n",
       "    </tr>\n",
       "    <tr>\n",
       "      <th>5</th>\n",
       "      <td>1</td>\n",
       "      <td>355</td>\n",
       "      <td>NaN</td>\n",
       "    </tr>\n",
       "    <tr>\n",
       "      <th>6</th>\n",
       "      <td>1</td>\n",
       "      <td>356</td>\n",
       "      <td>NaN</td>\n",
       "    </tr>\n",
       "    <tr>\n",
       "      <th>7</th>\n",
       "      <td>1</td>\n",
       "      <td>442</td>\n",
       "      <td>NaN</td>\n",
       "    </tr>\n",
       "    <tr>\n",
       "      <th>8</th>\n",
       "      <td>1</td>\n",
       "      <td>487</td>\n",
       "      <td>NaN</td>\n",
       "    </tr>\n",
       "    <tr>\n",
       "      <th>9</th>\n",
       "      <td>1</td>\n",
       "      <td>846</td>\n",
       "      <td>NaN</td>\n",
       "    </tr>\n",
       "    <tr>\n",
       "      <th>10</th>\n",
       "      <td>1</td>\n",
       "      <td>936</td>\n",
       "      <td>NaN</td>\n",
       "    </tr>\n",
       "    <tr>\n",
       "      <th>11</th>\n",
       "      <td>1</td>\n",
       "      <td>1546</td>\n",
       "      <td>NaN</td>\n",
       "    </tr>\n",
       "    <tr>\n",
       "      <th>12</th>\n",
       "      <td>1</td>\n",
       "      <td>1692</td>\n",
       "      <td>NaN</td>\n",
       "    </tr>\n",
       "    <tr>\n",
       "      <th>13</th>\n",
       "      <td>1</td>\n",
       "      <td>1836</td>\n",
       "      <td>NaN</td>\n",
       "    </tr>\n",
       "    <tr>\n",
       "      <th>14</th>\n",
       "      <td>1</td>\n",
       "      <td>2001</td>\n",
       "      <td>NaN</td>\n",
       "    </tr>\n",
       "    <tr>\n",
       "      <th>15</th>\n",
       "      <td>1</td>\n",
       "      <td>2025</td>\n",
       "      <td>NaN</td>\n",
       "    </tr>\n",
       "    <tr>\n",
       "      <th>16</th>\n",
       "      <td>1</td>\n",
       "      <td>2144</td>\n",
       "      <td>NaN</td>\n",
       "    </tr>\n",
       "    <tr>\n",
       "      <th>17</th>\n",
       "      <td>1</td>\n",
       "      <td>2787</td>\n",
       "      <td>NaN</td>\n",
       "    </tr>\n",
       "    <tr>\n",
       "      <th>18</th>\n",
       "      <td>1</td>\n",
       "      <td>2993</td>\n",
       "      <td>NaN</td>\n",
       "    </tr>\n",
       "    <tr>\n",
       "      <th>19</th>\n",
       "      <td>1</td>\n",
       "      <td>3455</td>\n",
       "      <td>NaN</td>\n",
       "    </tr>\n",
       "  </tbody>\n",
       "</table>\n",
       "</div>"
      ],
      "text/plain": [
       "    user_id  anime_id  rating\n",
       "0         1        20     NaN\n",
       "1         1        24     NaN\n",
       "2         1        79     NaN\n",
       "3         1       226     NaN\n",
       "4         1       241     NaN\n",
       "5         1       355     NaN\n",
       "6         1       356     NaN\n",
       "7         1       442     NaN\n",
       "8         1       487     NaN\n",
       "9         1       846     NaN\n",
       "10        1       936     NaN\n",
       "11        1      1546     NaN\n",
       "12        1      1692     NaN\n",
       "13        1      1836     NaN\n",
       "14        1      2001     NaN\n",
       "15        1      2025     NaN\n",
       "16        1      2144     NaN\n",
       "17        1      2787     NaN\n",
       "18        1      2993     NaN\n",
       "19        1      3455     NaN"
      ]
     },
     "execution_count": 18,
     "metadata": {},
     "output_type": "execute_result"
    }
   ],
   "source": [
    "rating_df['rating'] = rating_df['rating'].apply(lambda x: np.nan if x==-1 else x)\n",
    "rating_df.head(20)"
   ]
  },
  {
   "cell_type": "markdown",
   "metadata": {
    "papermill": {
     "duration": 0.029236,
     "end_time": "2020-11-24T18:54:31.860737",
     "exception": false,
     "start_time": "2020-11-24T18:54:31.831501",
     "status": "completed"
    },
    "tags": []
   },
   "source": [
    "### Now we will engineer our Dataframe in the following steps:\n",
    "\n",
    "1. We want to recommend anime series only so the the relevant `type` is `TV`\n",
    "2. We make a new Dataframe combining both anime and rating on the `anime_id` column.\n",
    "3. Leaving only `\tuser_id`, `name` and `rating` as the Df.\n",
    "4. For computing purpose only we compute our Dataframe based only on the first 7500 users.\n"
   ]
  },
  {
   "cell_type": "code",
   "execution_count": 19,
   "metadata": {
    "execution": {
     "iopub.execute_input": "2020-11-24T18:54:31.934461Z",
     "iopub.status.busy": "2020-11-24T18:54:31.931480Z",
     "iopub.status.idle": "2020-11-24T18:54:33.589594Z",
     "shell.execute_reply": "2020-11-24T18:54:33.590142Z"
    },
    "papermill": {
     "duration": 1.699601,
     "end_time": "2020-11-24T18:54:33.590314",
     "exception": false,
     "start_time": "2020-11-24T18:54:31.890713",
     "status": "completed"
    },
    "tags": []
   },
   "outputs": [
    {
     "data": {
      "text/html": [
       "<div>\n",
       "<style scoped>\n",
       "    .dataframe tbody tr th:only-of-type {\n",
       "        vertical-align: middle;\n",
       "    }\n",
       "\n",
       "    .dataframe tbody tr th {\n",
       "        vertical-align: top;\n",
       "    }\n",
       "\n",
       "    .dataframe thead th {\n",
       "        text-align: right;\n",
       "    }\n",
       "</style>\n",
       "<table border=\"1\" class=\"dataframe\">\n",
       "  <thead>\n",
       "    <tr style=\"text-align: right;\">\n",
       "      <th></th>\n",
       "      <th>user_id</th>\n",
       "      <th>name</th>\n",
       "      <th>rating</th>\n",
       "    </tr>\n",
       "  </thead>\n",
       "  <tbody>\n",
       "    <tr>\n",
       "      <th>0</th>\n",
       "      <td>1</td>\n",
       "      <td>Naruto</td>\n",
       "      <td>7.81</td>\n",
       "    </tr>\n",
       "    <tr>\n",
       "      <th>1</th>\n",
       "      <td>3</td>\n",
       "      <td>Naruto</td>\n",
       "      <td>7.81</td>\n",
       "    </tr>\n",
       "    <tr>\n",
       "      <th>2</th>\n",
       "      <td>5</td>\n",
       "      <td>Naruto</td>\n",
       "      <td>7.81</td>\n",
       "    </tr>\n",
       "    <tr>\n",
       "      <th>3</th>\n",
       "      <td>6</td>\n",
       "      <td>Naruto</td>\n",
       "      <td>7.81</td>\n",
       "    </tr>\n",
       "    <tr>\n",
       "      <th>4</th>\n",
       "      <td>10</td>\n",
       "      <td>Naruto</td>\n",
       "      <td>7.81</td>\n",
       "    </tr>\n",
       "  </tbody>\n",
       "</table>\n",
       "</div>"
      ],
      "text/plain": [
       "   user_id    name  rating\n",
       "0        1  Naruto    7.81\n",
       "1        3  Naruto    7.81\n",
       "2        5  Naruto    7.81\n",
       "3        6  Naruto    7.81\n",
       "4       10  Naruto    7.81"
      ]
     },
     "execution_count": 19,
     "metadata": {},
     "output_type": "execute_result"
    }
   ],
   "source": [
    "#step 1\n",
    "anime_df = anime_df[anime_df['type']=='TV']\n",
    "\n",
    "#step 2\n",
    "rated_anime = rating_df.merge(anime_df, left_on = 'anime_id', right_on = 'anime_id', suffixes= ['_user', ''])\n",
    "\n",
    "#step 3\n",
    "rated_anime =rated_anime[['user_id', 'name', 'rating']]\n",
    "\n",
    "#step 4\n",
    "rated_anime_7500= rated_anime[rated_anime.user_id <= 7500]\n",
    "rated_anime_7500.head()"
   ]
  },
  {
   "cell_type": "markdown",
   "metadata": {
    "papermill": {
     "duration": 0.029884,
     "end_time": "2020-11-24T18:54:33.650571",
     "exception": false,
     "start_time": "2020-11-24T18:54:33.620687",
     "status": "completed"
    },
    "tags": []
   },
   "source": [
    "### Pivot Table for similarity\n",
    "\n",
    "We will create a pivot table of users as rows and tv show names as columns. The pivot table will help us will be analized for the calcuations of similarity."
   ]
  },
  {
   "cell_type": "code",
   "execution_count": 20,
   "metadata": {
    "execution": {
     "iopub.execute_input": "2020-11-24T18:54:33.731787Z",
     "iopub.status.busy": "2020-11-24T18:54:33.730580Z",
     "iopub.status.idle": "2020-11-24T18:54:34.545624Z",
     "shell.execute_reply": "2020-11-24T18:54:34.544815Z"
    },
    "papermill": {
     "duration": 0.863873,
     "end_time": "2020-11-24T18:54:34.545763",
     "exception": false,
     "start_time": "2020-11-24T18:54:33.681890",
     "status": "completed"
    },
    "tags": []
   },
   "outputs": [
    {
     "data": {
      "text/html": [
       "<div>\n",
       "<style scoped>\n",
       "    .dataframe tbody tr th:only-of-type {\n",
       "        vertical-align: middle;\n",
       "    }\n",
       "\n",
       "    .dataframe tbody tr th {\n",
       "        vertical-align: top;\n",
       "    }\n",
       "\n",
       "    .dataframe thead th {\n",
       "        text-align: right;\n",
       "    }\n",
       "</style>\n",
       "<table border=\"1\" class=\"dataframe\">\n",
       "  <thead>\n",
       "    <tr style=\"text-align: right;\">\n",
       "      <th>name</th>\n",
       "      <th>.hack//Roots</th>\n",
       "      <th>.hack//Sign</th>\n",
       "      <th>.hack//Tasogare no Udewa Densetsu</th>\n",
       "      <th>009-1</th>\n",
       "      <th>07-Ghost</th>\n",
       "      <th>11eyes</th>\n",
       "      <th>12-sai.: Chicchana Mune no Tokimeki</th>\n",
       "      <th>3 Choume no Tama: Uchi no Tama Shirimasenka?</th>\n",
       "      <th>30-sai no Hoken Taiiku</th>\n",
       "      <th>91 Days</th>\n",
       "      <th>...</th>\n",
       "      <th>Zone of the Enders: Dolores, I</th>\n",
       "      <th>Zukkoke Knight: Don De La Mancha</th>\n",
       "      <th>ef: A Tale of Melodies.</th>\n",
       "      <th>ef: A Tale of Memories.</th>\n",
       "      <th>gdgd Fairies</th>\n",
       "      <th>gdgd Fairies 2</th>\n",
       "      <th>iDOLM@STER Xenoglossia</th>\n",
       "      <th>s.CRY.ed</th>\n",
       "      <th>xxxHOLiC</th>\n",
       "      <th>xxxHOLiC Kei</th>\n",
       "    </tr>\n",
       "    <tr>\n",
       "      <th>user_id</th>\n",
       "      <th></th>\n",
       "      <th></th>\n",
       "      <th></th>\n",
       "      <th></th>\n",
       "      <th></th>\n",
       "      <th></th>\n",
       "      <th></th>\n",
       "      <th></th>\n",
       "      <th></th>\n",
       "      <th></th>\n",
       "      <th></th>\n",
       "      <th></th>\n",
       "      <th></th>\n",
       "      <th></th>\n",
       "      <th></th>\n",
       "      <th></th>\n",
       "      <th></th>\n",
       "      <th></th>\n",
       "      <th></th>\n",
       "      <th></th>\n",
       "      <th></th>\n",
       "    </tr>\n",
       "  </thead>\n",
       "  <tbody>\n",
       "    <tr>\n",
       "      <th>1</th>\n",
       "      <td>NaN</td>\n",
       "      <td>NaN</td>\n",
       "      <td>NaN</td>\n",
       "      <td>NaN</td>\n",
       "      <td>NaN</td>\n",
       "      <td>6.49</td>\n",
       "      <td>NaN</td>\n",
       "      <td>NaN</td>\n",
       "      <td>NaN</td>\n",
       "      <td>NaN</td>\n",
       "      <td>...</td>\n",
       "      <td>NaN</td>\n",
       "      <td>NaN</td>\n",
       "      <td>NaN</td>\n",
       "      <td>NaN</td>\n",
       "      <td>NaN</td>\n",
       "      <td>NaN</td>\n",
       "      <td>NaN</td>\n",
       "      <td>NaN</td>\n",
       "      <td>NaN</td>\n",
       "      <td>NaN</td>\n",
       "    </tr>\n",
       "    <tr>\n",
       "      <th>2</th>\n",
       "      <td>NaN</td>\n",
       "      <td>NaN</td>\n",
       "      <td>NaN</td>\n",
       "      <td>NaN</td>\n",
       "      <td>NaN</td>\n",
       "      <td>NaN</td>\n",
       "      <td>NaN</td>\n",
       "      <td>NaN</td>\n",
       "      <td>NaN</td>\n",
       "      <td>NaN</td>\n",
       "      <td>...</td>\n",
       "      <td>NaN</td>\n",
       "      <td>NaN</td>\n",
       "      <td>NaN</td>\n",
       "      <td>NaN</td>\n",
       "      <td>NaN</td>\n",
       "      <td>NaN</td>\n",
       "      <td>NaN</td>\n",
       "      <td>NaN</td>\n",
       "      <td>NaN</td>\n",
       "      <td>NaN</td>\n",
       "    </tr>\n",
       "    <tr>\n",
       "      <th>3</th>\n",
       "      <td>NaN</td>\n",
       "      <td>NaN</td>\n",
       "      <td>NaN</td>\n",
       "      <td>NaN</td>\n",
       "      <td>NaN</td>\n",
       "      <td>NaN</td>\n",
       "      <td>NaN</td>\n",
       "      <td>NaN</td>\n",
       "      <td>NaN</td>\n",
       "      <td>NaN</td>\n",
       "      <td>...</td>\n",
       "      <td>NaN</td>\n",
       "      <td>NaN</td>\n",
       "      <td>NaN</td>\n",
       "      <td>NaN</td>\n",
       "      <td>NaN</td>\n",
       "      <td>NaN</td>\n",
       "      <td>NaN</td>\n",
       "      <td>NaN</td>\n",
       "      <td>NaN</td>\n",
       "      <td>NaN</td>\n",
       "    </tr>\n",
       "    <tr>\n",
       "      <th>4</th>\n",
       "      <td>NaN</td>\n",
       "      <td>NaN</td>\n",
       "      <td>NaN</td>\n",
       "      <td>NaN</td>\n",
       "      <td>NaN</td>\n",
       "      <td>NaN</td>\n",
       "      <td>NaN</td>\n",
       "      <td>NaN</td>\n",
       "      <td>NaN</td>\n",
       "      <td>NaN</td>\n",
       "      <td>...</td>\n",
       "      <td>NaN</td>\n",
       "      <td>NaN</td>\n",
       "      <td>NaN</td>\n",
       "      <td>NaN</td>\n",
       "      <td>NaN</td>\n",
       "      <td>NaN</td>\n",
       "      <td>NaN</td>\n",
       "      <td>NaN</td>\n",
       "      <td>NaN</td>\n",
       "      <td>NaN</td>\n",
       "    </tr>\n",
       "    <tr>\n",
       "      <th>5</th>\n",
       "      <td>NaN</td>\n",
       "      <td>NaN</td>\n",
       "      <td>NaN</td>\n",
       "      <td>NaN</td>\n",
       "      <td>NaN</td>\n",
       "      <td>NaN</td>\n",
       "      <td>NaN</td>\n",
       "      <td>NaN</td>\n",
       "      <td>NaN</td>\n",
       "      <td>NaN</td>\n",
       "      <td>...</td>\n",
       "      <td>NaN</td>\n",
       "      <td>NaN</td>\n",
       "      <td>NaN</td>\n",
       "      <td>NaN</td>\n",
       "      <td>NaN</td>\n",
       "      <td>NaN</td>\n",
       "      <td>NaN</td>\n",
       "      <td>NaN</td>\n",
       "      <td>8.11</td>\n",
       "      <td>NaN</td>\n",
       "    </tr>\n",
       "  </tbody>\n",
       "</table>\n",
       "<p>5 rows × 2734 columns</p>\n",
       "</div>"
      ],
      "text/plain": [
       "name     .hack//Roots  .hack//Sign  .hack//Tasogare no Udewa Densetsu  009-1  \\\n",
       "user_id                                                                        \n",
       "1                 NaN          NaN                                NaN    NaN   \n",
       "2                 NaN          NaN                                NaN    NaN   \n",
       "3                 NaN          NaN                                NaN    NaN   \n",
       "4                 NaN          NaN                                NaN    NaN   \n",
       "5                 NaN          NaN                                NaN    NaN   \n",
       "\n",
       "name     07-Ghost  11eyes  12-sai.: Chicchana Mune no Tokimeki  \\\n",
       "user_id                                                          \n",
       "1             NaN    6.49                                  NaN   \n",
       "2             NaN     NaN                                  NaN   \n",
       "3             NaN     NaN                                  NaN   \n",
       "4             NaN     NaN                                  NaN   \n",
       "5             NaN     NaN                                  NaN   \n",
       "\n",
       "name     3 Choume no Tama: Uchi no Tama Shirimasenka?  30-sai no Hoken Taiiku  \\\n",
       "user_id                                                                         \n",
       "1                                                 NaN                     NaN   \n",
       "2                                                 NaN                     NaN   \n",
       "3                                                 NaN                     NaN   \n",
       "4                                                 NaN                     NaN   \n",
       "5                                                 NaN                     NaN   \n",
       "\n",
       "name     91 Days  ...  Zone of the Enders: Dolores, I  \\\n",
       "user_id           ...                                   \n",
       "1            NaN  ...                             NaN   \n",
       "2            NaN  ...                             NaN   \n",
       "3            NaN  ...                             NaN   \n",
       "4            NaN  ...                             NaN   \n",
       "5            NaN  ...                             NaN   \n",
       "\n",
       "name     Zukkoke Knight: Don De La Mancha  ef: A Tale of Melodies.  \\\n",
       "user_id                                                              \n",
       "1                                     NaN                      NaN   \n",
       "2                                     NaN                      NaN   \n",
       "3                                     NaN                      NaN   \n",
       "4                                     NaN                      NaN   \n",
       "5                                     NaN                      NaN   \n",
       "\n",
       "name     ef: A Tale of Memories.  gdgd Fairies  gdgd Fairies 2  \\\n",
       "user_id                                                          \n",
       "1                            NaN           NaN             NaN   \n",
       "2                            NaN           NaN             NaN   \n",
       "3                            NaN           NaN             NaN   \n",
       "4                            NaN           NaN             NaN   \n",
       "5                            NaN           NaN             NaN   \n",
       "\n",
       "name     iDOLM@STER Xenoglossia  s.CRY.ed  xxxHOLiC  xxxHOLiC Kei  \n",
       "user_id                                                            \n",
       "1                           NaN       NaN       NaN           NaN  \n",
       "2                           NaN       NaN       NaN           NaN  \n",
       "3                           NaN       NaN       NaN           NaN  \n",
       "4                           NaN       NaN       NaN           NaN  \n",
       "5                           NaN       NaN      8.11           NaN  \n",
       "\n",
       "[5 rows x 2734 columns]"
      ]
     },
     "execution_count": 20,
     "metadata": {},
     "output_type": "execute_result"
    }
   ],
   "source": [
    "pivot = rated_anime_7500.pivot_table(index=['user_id'], columns=['name'], values='rating')\n",
    "pivot.head()"
   ]
  },
  {
   "cell_type": "markdown",
   "metadata": {
    "papermill": {
     "duration": 0.031915,
     "end_time": "2020-11-24T18:54:34.609372",
     "exception": false,
     "start_time": "2020-11-24T18:54:34.577457",
     "status": "completed"
    },
    "tags": []
   },
   "source": [
    "### Now we will engineer our pivot table in the following steps:\n",
    "\n",
    "1. Value normalization.\n",
    "2. Filling `Nan` values as `0`.\n",
    "3. Transposing the pivot for the next step.\n",
    "4. Dropping columns with the values of `0` (unrated).\n",
    "5. Using `scipy` package to convert to sparse matrix format for the similarity computation.\n"
   ]
  },
  {
   "cell_type": "code",
   "execution_count": 21,
   "metadata": {
    "execution": {
     "iopub.execute_input": "2020-11-24T18:54:34.682277Z",
     "iopub.status.busy": "2020-11-24T18:54:34.681052Z",
     "iopub.status.idle": "2020-11-24T18:54:40.289545Z",
     "shell.execute_reply": "2020-11-24T18:54:40.288735Z"
    },
    "papermill": {
     "duration": 5.648906,
     "end_time": "2020-11-24T18:54:40.289673",
     "exception": false,
     "start_time": "2020-11-24T18:54:34.640767",
     "status": "completed"
    },
    "tags": []
   },
   "outputs": [],
   "source": [
    "# step 1\n",
    "pivot_n = pivot.apply(lambda x: (x-np.mean(x))/(np.max(x)-np.min(x)), axis=1)\n",
    "\n",
    "# step 2\n",
    "pivot_n.fillna(0, inplace=True)\n",
    "\n",
    "# step 3\n",
    "pivot_n = pivot_n.T\n",
    "\n",
    "# step 4\n",
    "pivot_n = pivot_n.loc[:, (pivot_n != 0).any(axis=0)]\n",
    "\n",
    "# step 5\n",
    "piv_sparse = sp.sparse.csr_matrix(pivot_n.values)"
   ]
  },
  {
   "cell_type": "markdown",
   "metadata": {},
   "source": [
    "# "
   ]
  },
  {
   "cell_type": "markdown",
   "metadata": {
    "papermill": {
     "duration": 0.031142,
     "end_time": "2020-11-24T18:54:40.353508",
     "exception": false,
     "start_time": "2020-11-24T18:54:40.322366",
     "status": "completed"
    },
    "tags": []
   },
   "source": [
    "# Cosine Similarity Model\n",
    "\n",
    "\n",
    "**formula:**\n",
    "![](https://cdn-images-1.medium.com/max/579/1*5hJibEtQPavnbgRxg8w2Fg.gif)\n",
    "\n",
    "Cosine similarity measures the similarity between two vectors of an inner product space. It is measured by the cosine of the angle between two vectors and determines whether two vectors are pointing in roughly the same direction (more on [sciencedirect](https://www.sciencedirect.com/topics/computer-science/cosine-similarity))."
   ]
  },
  {
   "cell_type": "code",
   "execution_count": 22,
   "metadata": {
    "execution": {
     "iopub.execute_input": "2020-11-24T18:54:40.425020Z",
     "iopub.status.busy": "2020-11-24T18:54:40.423795Z",
     "iopub.status.idle": "2020-11-24T18:54:41.060344Z",
     "shell.execute_reply": "2020-11-24T18:54:41.059530Z"
    },
    "papermill": {
     "duration": 0.674873,
     "end_time": "2020-11-24T18:54:41.060505",
     "exception": false,
     "start_time": "2020-11-24T18:54:40.385632",
     "status": "completed"
    },
    "tags": []
   },
   "outputs": [],
   "source": [
    "#model based on anime similarity\n",
    "anime_similarity = cosine_similarity(piv_sparse)\n",
    "\n",
    "#Df of anime similarities\n",
    "ani_sim_df = pd.DataFrame(anime_similarity, index = pivot_n.index, columns = pivot_n.index)"
   ]
  },
  {
   "cell_type": "code",
   "execution_count": 23,
   "metadata": {
    "execution": {
     "iopub.execute_input": "2020-11-24T18:54:41.133346Z",
     "iopub.status.busy": "2020-11-24T18:54:41.132170Z",
     "iopub.status.idle": "2020-11-24T18:54:41.135819Z",
     "shell.execute_reply": "2020-11-24T18:54:41.135062Z"
    },
    "papermill": {
     "duration": 0.043897,
     "end_time": "2020-11-24T18:54:41.135952",
     "exception": false,
     "start_time": "2020-11-24T18:54:41.092055",
     "status": "completed"
    },
    "tags": []
   },
   "outputs": [],
   "source": [
    "def anime_recommendation(ani_name):\n",
    "    \"\"\"\n",
    "    This function will return the top 5 shows with the highest cosine similarity value and show match percent\n",
    "    \n",
    "    example:\n",
    "    >>>Input: \n",
    "    \n",
    "    anime_recommendation('Death Note')\n",
    "    \n",
    "    >>>Output: \n",
    "    \n",
    "    Recommended because you watched Death Note:\n",
    "\n",
    "                    #1: Code Geass: Hangyaku no Lelouch, 57.35% match\n",
    "                    #2: Code Geass: Hangyaku no Lelouch R2, 54.81% match\n",
    "                    #3: Fullmetal Alchemist, 51.07% match\n",
    "                    #4: Shingeki no Kyojin, 48.68% match\n",
    "                    #5: Fullmetal Alchemist: Brotherhood, 45.99% match \n",
    "\n",
    "               \n",
    "    \"\"\"\n",
    "    ani_name= ani_name.title()\n",
    "    number = 1\n",
    "    print('Recommended because you watched {}:\\n'.format(ani_name))\n",
    "    for anime in ani_sim_df.sort_values(by = ani_name, ascending = False).index[1:6]:\n",
    "        print(f'#{number}: {anime}, {round(ani_sim_df[anime][ani_name]*100,2)}% match')\n",
    "        number +=1  "
   ]
  },
  {
   "cell_type": "code",
   "execution_count": 25,
   "metadata": {
    "execution": {
     "iopub.execute_input": "2020-11-24T18:54:41.206349Z",
     "iopub.status.busy": "2020-11-24T18:54:41.204574Z",
     "iopub.status.idle": "2020-11-24T18:54:41.226564Z",
     "shell.execute_reply": "2020-11-24T18:54:41.225516Z"
    },
    "papermill": {
     "duration": 0.059292,
     "end_time": "2020-11-24T18:54:41.226759",
     "exception": false,
     "start_time": "2020-11-24T18:54:41.167467",
     "status": "completed"
    },
    "scrolled": true,
    "tags": []
   },
   "outputs": [
    {
     "name": "stdout",
     "output_type": "stream",
     "text": [
      "Recommended because you watched Death Note:\n",
      "\n",
      "#1: Code Geass: Hangyaku no Lelouch, 57.35% match\n",
      "#2: Code Geass: Hangyaku no Lelouch R2, 54.81% match\n",
      "#3: Fullmetal Alchemist, 51.07% match\n",
      "#4: Shingeki no Kyojin, 48.68% match\n",
      "#5: Fullmetal Alchemist: Brotherhood, 45.99% match\n"
     ]
    }
   ],
   "source": [
    "anime_recommendation('death note')"
   ]
  }
 ],
 "metadata": {
  "kernelspec": {
   "display_name": "Python 3",
   "language": "python",
   "name": "python3"
  },
  "language_info": {
   "codemirror_mode": {
    "name": "ipython",
    "version": 3
   },
   "file_extension": ".py",
   "mimetype": "text/x-python",
   "name": "python",
   "nbconvert_exporter": "python",
   "pygments_lexer": "ipython3",
   "version": "3.8.8"
  },
  "papermill": {
   "duration": 26.442656,
   "end_time": "2020-11-24T18:54:41.431255",
   "environment_variables": {},
   "exception": null,
   "input_path": "__notebook__.ipynb",
   "output_path": "__notebook__.ipynb",
   "parameters": {},
   "start_time": "2020-11-24T18:54:14.988599",
   "version": "2.1.0"
  }
 },
 "nbformat": 4,
 "nbformat_minor": 4
}
